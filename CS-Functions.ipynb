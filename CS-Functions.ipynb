{
 "cells": [
  {
   "cell_type": "code",
   "execution_count": 1,
   "metadata": {},
   "outputs": [
    {
     "name": "stdout",
     "output_type": "stream",
     "text": [
      "you are old enough\n"
     ]
    }
   ],
   "source": [
    "name = 'fred'\n",
    "age = 12\n",
    "if age > 10:\n",
    "    print('you are old enough')\n",
    "else:\n",
    "    print('you are too young')"
   ]
  },
  {
   "cell_type": "code",
   "execution_count": null,
   "metadata": {},
   "outputs": [
    {
     "name": "stdout",
     "output_type": "stream",
     "text": [
      "you are my favourite\n",
      "Sorry you lost\n"
     ]
    }
   ],
   "source": [
    "name = 'fred'\n",
    "age = 12\n",
    "wonGame = False\n",
    "\n",
    "if age > 10 and name =='fred':\n",
    "    print('you are my favourite')\n",
    "else:\n",
    "    print('not quite there')\n",
    "    \n",
    "#another example\n",
    "\n",
    "if not (age < 100):\n",
    "    print('what am I actually testing here??')\n",
    "    \n",
    "# when you test booleans you dont have to check equality to True and False\n",
    "#they ARE true or false themselves\n",
    "if not wonGame:\n",
    "    print('Sorry you lost')\n",
    "    "
   ]
  },
  {
   "cell_type": "code",
   "execution_count": null,
   "metadata": {
    "collapsed": true
   },
   "outputs": [],
   "source": [
    "age = int(input('what is your age?'))\n",
    "withAdult = input('are you with an adult?')\n",
    "\n",
    "#check if user is eligable to enter cinema\n",
    "if (age > 18) or withAdult == 'yes':\n",
    "    print('you may enter')\n",
    "else:\n",
    "    print('maybe next time kiddo')\n",
    "    "
   ]
  },
  {
   "cell_type": "code",
   "execution_count": null,
   "metadata": {
    "collapsed": true
   },
   "outputs": [],
   "source": [
    "boy = True\n",
    "likePizza = True\n",
    "\n",
    "#only allow in if theyre a boy who likes pizza\n",
    "if boy == True and likePizza == True:\n",
    "    print('welcome to the party')\n",
    "else:\n",
    "    print('not today')"
   ]
  },
  {
   "cell_type": "code",
   "execution_count": null,
   "metadata": {
    "collapsed": true
   },
   "outputs": [],
   "source": [
    "temperature = 20\n",
    "chanceOfRain = 60\n",
    "\n",
    "#take an umbrella if the temperature is above 17 and theres a chance of rain above 80\n",
    "if temperature > 17 and chanceOfRain > 80:\n",
    "    print('Take an umbrella')\n",
    "else:\n",
    "    print('Have a good day')\n"
   ]
  },
  {
   "cell_type": "code",
   "execution_count": null,
   "metadata": {
    "collapsed": true
   },
   "outputs": [],
   "source": [
    "temperature = int(input('what temperature is it today?'))\n",
    "weather = input('what is the weather like today?')\n",
    "\n",
    "if weather == 'rain':\n",
    "    print('bring an umbrella')\n",
    "elif (temperature > 20) and weather == 'sunny':\n",
    "    print('wear a short sleve t-shirt and suncream')\n",
    "elif weather == 'sunny':\n",
    "    print('wear sunglasses')\n",
    "elif temperature < 10:\n",
    "    print('bring a jacket')\n",
    "else:\n",
    "    print('enjoy yourself, whatever the weather')\n",
    "\n"
   ]
  },
  {
   "cell_type": "code",
   "execution_count": null,
   "metadata": {
    "collapsed": true
   },
   "outputs": [],
   "source": [
    "for letter in 'PYTHON':\n",
    "    print('Current letter:', letter)"
   ]
  },
  {
   "cell_type": "code",
   "execution_count": null,
   "metadata": {
    "collapsed": true
   },
   "outputs": [],
   "source": [
    "#prints out the numbers 1- 100 separated by stars\n",
    "for x in range(0,100):\n",
    "    print(x+1, 'star')"
   ]
  },
  {
   "cell_type": "code",
   "execution_count": null,
   "metadata": {
    "collapsed": true
   },
   "outputs": [],
   "source": [
    "#prints out the 7 times table\n",
    "for x in range(0,12):\n",
    "    print(x * 7)"
   ]
  },
  {
   "cell_type": "code",
   "execution_count": null,
   "metadata": {
    "collapsed": true
   },
   "outputs": [],
   "source": [
    "for x in range(0,10,3):\n",
    "    print(x)"
   ]
  },
  {
   "cell_type": "code",
   "execution_count": null,
   "metadata": {
    "collapsed": true
   },
   "outputs": [],
   "source": [
    "#prints all the square numbers between 1 and 100\n",
    "for square in range(0,11):\n",
    "    print(square*square)"
   ]
  },
  {
   "cell_type": "code",
   "execution_count": null,
   "metadata": {
    "collapsed": true
   },
   "outputs": [],
   "source": [
    "#prints the numbers from 10 to 1 then prints BLAST OFF\n",
    "for x in range(10 , 0 , -1):\n",
    "    print(x)\n",
    "print(\"BLAST OFF\")"
   ]
  },
  {
   "cell_type": "code",
   "execution_count": null,
   "metadata": {
    "collapsed": true
   },
   "outputs": [],
   "source": [
    "name = 'fred'\n",
    "age = ' 12'\n",
    "\n",
    "print('{}{}'.format(name ,age))"
   ]
  },
  {
   "cell_type": "code",
   "execution_count": null,
   "metadata": {
    "collapsed": true
   },
   "outputs": [],
   "source": [
    "name = 'fred'\n",
    "age = '12'\n",
    "print('{1} {0}'.format(name,age))"
   ]
  },
  {
   "cell_type": "code",
   "execution_count": null,
   "metadata": {
    "collapsed": true
   },
   "outputs": [],
   "source": [
    "#in order to convert bewteen a character and its ASCII value (and visa versa), python has built in 2 functions\n",
    "val = 65\n",
    "ch = 'b'\n",
    "\n",
    "x =ord(ch)\n",
    "y=chr(val)\n",
    "\n",
    "print('{},{}'.format(x,y))"
   ]
  },
  {
   "cell_type": "code",
   "execution_count": null,
   "metadata": {
    "collapsed": true
   },
   "outputs": [],
   "source": [
    "#prints out the numbers 1- 100 separated by stars\n",
    "for x in range(0,100):\n",
    "    print(x+1, 'star')"
   ]
  },
  {
   "cell_type": "code",
   "execution_count": null,
   "metadata": {
    "collapsed": true
   },
   "outputs": [],
   "source": [
    "#prints out the 7 times table\n",
    "for x in range(0,12):\n",
    "    print(x * 7)"
   ]
  },
  {
   "cell_type": "code",
   "execution_count": null,
   "metadata": {
    "collapsed": true
   },
   "outputs": [],
   "source": [
    "for x in range(0,10,3):\n",
    "    print(x)"
   ]
  },
  {
   "cell_type": "code",
   "execution_count": null,
   "metadata": {
    "collapsed": true
   },
   "outputs": [],
   "source": [
    "#prints all the square numbers between 1 and 100\n",
    "for square in range(0,11):\n",
    "    print(square*square)"
   ]
  },
  {
   "cell_type": "code",
   "execution_count": null,
   "metadata": {
    "collapsed": true
   },
   "outputs": [],
   "source": [
    "#prints the numbers from 10 to 1 then prints BLAST OFF\n",
    "for x in range(10 , 0 , -1):\n",
    "    print(x)\n",
    "print(\"BLAST OFF\")"
   ]
  },
  {
   "cell_type": "code",
   "execution_count": null,
   "metadata": {
    "collapsed": true
   },
   "outputs": [],
   "source": [
    "name = 'fred'\n",
    "age = ' 12'\n",
    "\n",
    "print('{}{}'.format(name ,age))"
   ]
  },
  {
   "cell_type": "code",
   "execution_count": null,
   "metadata": {
    "collapsed": true
   },
   "outputs": [],
   "source": [
    "name = 'fred'\n",
    "age = '12'\n",
    "print('{1} {0}'.format(name,age))"
   ]
  },
  {
   "cell_type": "code",
   "execution_count": null,
   "metadata": {
    "collapsed": true
   },
   "outputs": [],
   "source": [
    "#in order to convert bewteen a character and its ASCII value (and visa versa), python has built in 2 functions\n",
    "val = 65\n",
    "ch = 'b'\n",
    "\n",
    "x =ord(ch)\n",
    "y=chr(val)\n",
    "\n",
    "print('{},{}'.format(x,y))"
   ]
  },
  {
   "cell_type": "code",
   "execution_count": null,
   "metadata": {
    "collapsed": true
   },
   "outputs": [],
   "source": [
    "#this function adds two numbers passed as parameters\n",
    "\n",
    "def add (number1, number2):\n",
    "    answer = number1+number2\n",
    "    return  answer\n"
   ]
  },
  {
   "cell_type": "code",
   "execution_count": null,
   "metadata": {
    "collapsed": true
   },
   "outputs": [],
   "source": [
    "#this function subtracts the second number from the first\n",
    "def subract (number1,number2):\n",
    "    answer = number1-number2\n",
    "    return answer"
   ]
  },
  {
   "cell_type": "code",
   "execution_count": null,
   "metadata": {
    "collapsed": true
   },
   "outputs": [],
   "source": [
    "#\n",
    "def floorDivide (number1, number2):\n",
    "    answer = number1//number2\n",
    "    return answer\n",
    "floor"
   ]
  },
  {
   "cell_type": "code",
   "execution_count": null,
   "metadata": {
    "collapsed": true
   },
   "outputs": [],
   "source": [
    "def divide (number1,number2):\n",
    "    answer = number1/number2\n",
    "    return answer"
   ]
  },
  {
   "cell_type": "code",
   "execution_count": null,
   "metadata": {
    "collapsed": true
   },
   "outputs": [],
   "source": [
    "def multiply (number1,number2):\n",
    "    answer = number1*number2\n",
    "    return answer\n"
   ]
  },
  {
   "cell_type": "code",
   "execution_count": null,
   "metadata": {
    "collapsed": true
   },
   "outputs": [],
   "source": [
    "def getRemainder(number1,number2):\n",
    "    answer = (number1%number2)\n",
    "    return answer"
   ]
  },
  {
   "cell_type": "code",
   "execution_count": null,
   "metadata": {
    "collapsed": true
   },
   "outputs": [],
   "source": [
    "def power(number1,number):\n",
    "    answer = number1**number2\n",
    "    return answer"
   ]
  },
  {
   "cell_type": "code",
   "execution_count": null,
   "metadata": {
    "collapsed": true
   },
   "outputs": [],
   "source": [
    "floorDivide(10,3)"
   ]
  },
  {
   "cell_type": "code",
   "execution_count": null,
   "metadata": {
    "collapsed": true
   },
   "outputs": [],
   "source": [
    "assert add(2,6) == 7, 'error'"
   ]
  },
  {
   "cell_type": "code",
   "execution_count": null,
   "metadata": {
    "collapsed": true
   },
   "outputs": [],
   "source": [
    "assert add(4,7)==9, \"add function not working\""
   ]
  }
 ],
 "metadata": {
  "kernelspec": {
   "display_name": "Python 3",
   "language": "python",
   "name": "python3"
  },
  "language_info": {
   "codemirror_mode": {
    "name": "ipython",
    "version": 3
   },
   "file_extension": ".py",
   "mimetype": "text/x-python",
   "name": "python",
   "nbconvert_exporter": "python",
   "pygments_lexer": "ipython3",
   "version": "3.5.2"
  }
 },
 "nbformat": 4,
 "nbformat_minor": 2
}
